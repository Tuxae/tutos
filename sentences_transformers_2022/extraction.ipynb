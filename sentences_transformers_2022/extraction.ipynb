{
 "cells": [
  {
   "cell_type": "code",
   "execution_count": 4,
   "metadata": {
    "scrolled": true
   },
   "outputs": [],
   "source": [
    "import numpy as np\n",
    "import pandas as pd\n",
    "import spacy\n",
    "nlp = spacy.load(\"fr_core_news_lg\")\n",
    "from sklearn.decomposition import PCA\n",
    "\n",
    "from sentence_transformers import SentenceTransformer\n",
    "st = SentenceTransformer(\"xlm-r-bert-base-nli-stsb-mean-tokens\")\n",
    "from utils import read_text_file, cosine_distance, get_pairwise_metric_matrix"
   ]
  },
  {
   "cell_type": "code",
   "execution_count": 8,
   "metadata": {},
   "outputs": [],
   "source": [
    "macron_speech = read_text_file(\"discours/discours.txt\")"
   ]
  },
  {
   "cell_type": "code",
   "execution_count": 9,
   "metadata": {},
   "outputs": [
    {
     "data": {
      "text/plain": [
       "\"Bonjour, Je voulais m'adresser aujourd'hui à toutes et tous pour un message d'engagement et d'action à l'occasion de la Journée internationale des droits des femmes, et alors qu'est lancée partout dans le monde aujourd'hui même, la mobilisation générale pour le forum Génération égalité de Paris, le 7 juillet prochain. En effet, il y a 25 ans, à Pékin, la première grande conférence sur les droits des femmes avait lieu. 1995 : il avait fallu attendre si tard, si longtemps et l'engagement de toute une génération pour que le combat pour le droit des femmes soit enfin reconnu comme partie intégrante du combat pour les droits de l'homme. 25 ans après, nous sommes là. Des progrès ont été accomplis mais ils sont largement insuffisants, et parfois aujourd'hui, y compris en Europe, y compris dans les démocraties les plus avancées, largement remis en cause. Alors face à cela, une génération, la nôtre, se lève. Parce qu'il n'est pas question de reculer, parce que nous n'avons plus le temps d'attendre. Alors je ne vous ferai pas de long discours sur ce que trop de femmes vivent aujourd'hui encore dans leur chair : des violences physiques, des violences sexuelles qui brisent des vies, les féminicides, les perspectives qui se referment pour des centaines de millions de jeunes filles mariées de force, privées d'école, le plafond de verre, les inégalités salariales qui découragent souvent, les inégalités de représentation de droit, qu'il s'agisse de la vie économique, de la vie politique, de la vie sociale.Ces inégalités demeurent partout et sont profondes. Nous connaissons les ennemis. Vous en voyez le visage, chaque jour mesdames :  l'obscurantisme, le déni, le silence, l'habitude, la somme de toutes les compromissions Mais les choses peuvent changer si nous le décidons. Alors décidons-le. Ce n'est pas un combat de femmes pour les femmes. C'est un combat pour l'humanité, pour notre dignité, à toutes et tous, contre la violence, l'injustice, contre l'indifférence. Nous avons les moyens d'agir, d'unir nos forces, celles des Etats, des entreprises, de la société civile, des femmes et des hommes qui ont décidé de s'engager et d'agir. Ce combat, je le mène ici en France contre la réalité insupportable des féminicides, contre le harcèlement, le sexisme, les discriminations. Et je veux ici saluer la mobilisation de toute la société civile, de tant et tant d'associations, mais aussi du gouvernement, des lois qui ont changé, des acteurs au quotidien qui ont bougé. Nous n'y sommes pas encore mais nous avançons. Ce combat, je le mènerai jusqu'au bout, dans notre pays. Mais nous devons le conduire partout dans le monde.L'égalité entre les femmes et les hommes est la grande cause de mon quinquennat. Cela vaut pour la France, comme pour notre action dans le monde. Nous l'avons démontré lors du G7 de Biarritz, nous allons agir avec encore plus de force. Alors je vous donne rendez-vous le 7 juillet prochain à Paris pour démontrer tous ensemble, par les actes, que nous sommes là, que nous ne reculerons pas, que nous obtiendrons des résultats tous ensemble. Parce que nous sommes la génération de l'égalité .\""
      ]
     },
     "execution_count": 9,
     "metadata": {},
     "output_type": "execute_result"
    }
   ],
   "source": [
    "macron_speech"
   ]
  },
  {
   "cell_type": "code",
   "execution_count": 10,
   "metadata": {},
   "outputs": [],
   "source": [
    "doc = nlp(macron_speech)"
   ]
  },
  {
   "cell_type": "code",
   "execution_count": 11,
   "metadata": {},
   "outputs": [
    {
     "data": {
      "text/plain": [
       "[\"Bonjour, Je voulais m'adresser aujourd'hui à toutes et tous pour un message d'engagement et d'action à l'occasion de la Journée internationale des droits des femmes, et alors qu'est lancée partout dans le monde aujourd'hui même, la mobilisation générale pour le forum Génération égalité de Paris, le 7 juillet prochain.\",\n",
       " 'En effet, il y a 25 ans, à Pékin, la première grande conférence sur les droits des femmes avait lieu.',\n",
       " \"1995 : il avait fallu attendre si tard, si longtemps et l'engagement de toute une génération pour que le combat pour le droit des femmes soit enfin reconnu comme partie intégrante du combat pour les droits de l'homme.\",\n",
       " '25 ans après, nous sommes là.',\n",
       " \"Des progrès ont été accomplis mais ils sont largement insuffisants, et parfois aujourd'hui, y compris en Europe, y compris dans les démocraties les plus avancées, largement remis en cause.\",\n",
       " 'Alors face à cela, une génération, la nôtre, se lève.',\n",
       " \"Parce qu'il n'est pas question de reculer, parce que nous n'avons plus le temps d'attendre.\",\n",
       " \"Alors je ne vous ferai pas de long discours sur ce que trop de femmes vivent aujourd'hui encore dans leur chair : des violences physiques, des violences sexuelles qui brisent des vies, les féminicides, les perspectives qui se referment pour des centaines de millions de jeunes filles mariées de force, privées d'école, le plafond de verre, les inégalités salariales qui découragent souvent, les inégalités de représentation de droit, qu'il s'agisse de la vie économique, de la vie politique, de la vie sociale.\",\n",
       " 'Ces inégalités demeurent partout et sont profondes.',\n",
       " 'Nous connaissons les ennemis.',\n",
       " \"Vous en voyez le visage, chaque jour mesdames :  l'obscurantisme, le déni, le silence, l'habitude, la somme de toutes les compromissions Mais les choses peuvent changer si nous le décidons.\",\n",
       " 'Alors décidons-le.',\n",
       " \"Ce n'est pas un combat de femmes pour les femmes.\",\n",
       " \"C'est un combat pour l'humanité, pour notre dignité, à toutes et tous, contre la violence, l'injustice, contre l'indifférence.\",\n",
       " \"Nous avons les moyens d'agir, d'unir nos forces, celles des Etats, des entreprises, de la société civile, des femmes et des hommes qui ont décidé de s'engager et d'agir.\",\n",
       " 'Ce combat, je le mène ici en France contre la réalité insupportable des féminicides, contre le harcèlement, le sexisme, les discriminations.',\n",
       " \"Et je veux ici saluer la mobilisation de toute la société civile, de tant et tant d'associations, mais aussi du gouvernement, des lois qui ont changé, des acteurs au quotidien qui ont bougé.\",\n",
       " \"Nous n'y sommes pas encore mais nous avançons.\",\n",
       " \"Ce combat, je le mènerai jusqu'au bout, dans notre pays.\",\n",
       " 'Mais nous devons le conduire partout dans le monde.',\n",
       " \"L'égalité entre les femmes et les hommes est la grande cause de mon quinquennat.\",\n",
       " 'Cela vaut pour la France, comme pour notre action dans le monde.',\n",
       " \"Nous l'avons démontré lors du G7 de Biarritz, nous allons agir avec encore plus de force.\",\n",
       " 'Alors je vous donne rendez-vous le 7 juillet prochain à Paris pour démontrer tous ensemble, par les actes, que nous sommes là, que nous ne reculerons pas, que nous obtiendrons des résultats tous ensemble.',\n",
       " \"Parce que nous sommes la génération de l'égalité .\"]"
      ]
     },
     "execution_count": 11,
     "metadata": {},
     "output_type": "execute_result"
    }
   ],
   "source": [
    "sentences = [s.text for s in doc.sents]\n",
    "sentences"
   ]
  },
  {
   "cell_type": "code",
   "execution_count": 12,
   "metadata": {},
   "outputs": [],
   "source": [
    "total_emb = st.encode(macron_speech)"
   ]
  },
  {
   "cell_type": "code",
   "execution_count": 13,
   "metadata": {},
   "outputs": [],
   "source": [
    "sentence_embs = st.encode(sentences)"
   ]
  },
  {
   "cell_type": "code",
   "execution_count": 15,
   "metadata": {},
   "outputs": [
    {
     "data": {
      "text/html": [
       "<div>\n",
       "<style scoped>\n",
       "    .dataframe tbody tr th:only-of-type {\n",
       "        vertical-align: middle;\n",
       "    }\n",
       "\n",
       "    .dataframe tbody tr th {\n",
       "        vertical-align: top;\n",
       "    }\n",
       "\n",
       "    .dataframe thead th {\n",
       "        text-align: right;\n",
       "    }\n",
       "</style>\n",
       "<table border=\"1\" class=\"dataframe\">\n",
       "  <thead>\n",
       "    <tr style=\"text-align: right;\">\n",
       "      <th></th>\n",
       "      <th>sentence</th>\n",
       "      <th>dist</th>\n",
       "    </tr>\n",
       "  </thead>\n",
       "  <tbody>\n",
       "    <tr>\n",
       "      <th>0</th>\n",
       "      <td>Bonjour, Je voulais m'adresser aujourd'hui à t...</td>\n",
       "      <td>0.108061</td>\n",
       "    </tr>\n",
       "    <tr>\n",
       "      <th>1</th>\n",
       "      <td>En effet, il y a 25 ans, à Pékin, la première ...</td>\n",
       "      <td>0.145050</td>\n",
       "    </tr>\n",
       "    <tr>\n",
       "      <th>2</th>\n",
       "      <td>1995 : il avait fallu attendre si tard, si lon...</td>\n",
       "      <td>0.192662</td>\n",
       "    </tr>\n",
       "    <tr>\n",
       "      <th>23</th>\n",
       "      <td>Alors je vous donne rendez-vous le 7 juillet p...</td>\n",
       "      <td>0.220380</td>\n",
       "    </tr>\n",
       "    <tr>\n",
       "      <th>20</th>\n",
       "      <td>L'égalité entre les femmes et les hommes est l...</td>\n",
       "      <td>0.292021</td>\n",
       "    </tr>\n",
       "    <tr>\n",
       "      <th>15</th>\n",
       "      <td>Ce combat, je le mène ici en France contre la ...</td>\n",
       "      <td>0.298506</td>\n",
       "    </tr>\n",
       "    <tr>\n",
       "      <th>7</th>\n",
       "      <td>Alors je ne vous ferai pas de long discours su...</td>\n",
       "      <td>0.300479</td>\n",
       "    </tr>\n",
       "    <tr>\n",
       "      <th>22</th>\n",
       "      <td>Nous l'avons démontré lors du G7 de Biarritz, ...</td>\n",
       "      <td>0.305495</td>\n",
       "    </tr>\n",
       "    <tr>\n",
       "      <th>16</th>\n",
       "      <td>Et je veux ici saluer la mobilisation de toute...</td>\n",
       "      <td>0.317890</td>\n",
       "    </tr>\n",
       "    <tr>\n",
       "      <th>21</th>\n",
       "      <td>Cela vaut pour la France, comme pour notre act...</td>\n",
       "      <td>0.348003</td>\n",
       "    </tr>\n",
       "    <tr>\n",
       "      <th>14</th>\n",
       "      <td>Nous avons les moyens d'agir, d'unir nos force...</td>\n",
       "      <td>0.350253</td>\n",
       "    </tr>\n",
       "    <tr>\n",
       "      <th>3</th>\n",
       "      <td>25 ans après, nous sommes là.</td>\n",
       "      <td>0.355918</td>\n",
       "    </tr>\n",
       "    <tr>\n",
       "      <th>24</th>\n",
       "      <td>Parce que nous sommes la génération de l'égali...</td>\n",
       "      <td>0.359080</td>\n",
       "    </tr>\n",
       "    <tr>\n",
       "      <th>18</th>\n",
       "      <td>Ce combat, je le mènerai jusqu'au bout, dans n...</td>\n",
       "      <td>0.359610</td>\n",
       "    </tr>\n",
       "    <tr>\n",
       "      <th>13</th>\n",
       "      <td>C'est un combat pour l'humanité, pour notre di...</td>\n",
       "      <td>0.370195</td>\n",
       "    </tr>\n",
       "    <tr>\n",
       "      <th>6</th>\n",
       "      <td>Parce qu'il n'est pas question de reculer, par...</td>\n",
       "      <td>0.371875</td>\n",
       "    </tr>\n",
       "    <tr>\n",
       "      <th>10</th>\n",
       "      <td>Vous en voyez le visage, chaque jour mesdames ...</td>\n",
       "      <td>0.384142</td>\n",
       "    </tr>\n",
       "    <tr>\n",
       "      <th>19</th>\n",
       "      <td>Mais nous devons le conduire partout dans le m...</td>\n",
       "      <td>0.387688</td>\n",
       "    </tr>\n",
       "    <tr>\n",
       "      <th>5</th>\n",
       "      <td>Alors face à cela, une génération, la nôtre, s...</td>\n",
       "      <td>0.396976</td>\n",
       "    </tr>\n",
       "    <tr>\n",
       "      <th>8</th>\n",
       "      <td>Ces inégalités demeurent partout et sont profo...</td>\n",
       "      <td>0.418640</td>\n",
       "    </tr>\n",
       "    <tr>\n",
       "      <th>17</th>\n",
       "      <td>Nous n'y sommes pas encore mais nous avançons.</td>\n",
       "      <td>0.433027</td>\n",
       "    </tr>\n",
       "    <tr>\n",
       "      <th>9</th>\n",
       "      <td>Nous connaissons les ennemis.</td>\n",
       "      <td>0.439593</td>\n",
       "    </tr>\n",
       "    <tr>\n",
       "      <th>4</th>\n",
       "      <td>Des progrès ont été accomplis mais ils sont la...</td>\n",
       "      <td>0.443757</td>\n",
       "    </tr>\n",
       "    <tr>\n",
       "      <th>12</th>\n",
       "      <td>Ce n'est pas un combat de femmes pour les femmes.</td>\n",
       "      <td>0.450724</td>\n",
       "    </tr>\n",
       "    <tr>\n",
       "      <th>11</th>\n",
       "      <td>Alors décidons-le.</td>\n",
       "      <td>0.505742</td>\n",
       "    </tr>\n",
       "  </tbody>\n",
       "</table>\n",
       "</div>"
      ],
      "text/plain": [
       "                                             sentence      dist\n",
       "0   Bonjour, Je voulais m'adresser aujourd'hui à t...  0.108061\n",
       "1   En effet, il y a 25 ans, à Pékin, la première ...  0.145050\n",
       "2   1995 : il avait fallu attendre si tard, si lon...  0.192662\n",
       "23  Alors je vous donne rendez-vous le 7 juillet p...  0.220380\n",
       "20  L'égalité entre les femmes et les hommes est l...  0.292021\n",
       "15  Ce combat, je le mène ici en France contre la ...  0.298506\n",
       "7   Alors je ne vous ferai pas de long discours su...  0.300479\n",
       "22  Nous l'avons démontré lors du G7 de Biarritz, ...  0.305495\n",
       "16  Et je veux ici saluer la mobilisation de toute...  0.317890\n",
       "21  Cela vaut pour la France, comme pour notre act...  0.348003\n",
       "14  Nous avons les moyens d'agir, d'unir nos force...  0.350253\n",
       "3                       25 ans après, nous sommes là.  0.355918\n",
       "24  Parce que nous sommes la génération de l'égali...  0.359080\n",
       "18  Ce combat, je le mènerai jusqu'au bout, dans n...  0.359610\n",
       "13  C'est un combat pour l'humanité, pour notre di...  0.370195\n",
       "6   Parce qu'il n'est pas question de reculer, par...  0.371875\n",
       "10  Vous en voyez le visage, chaque jour mesdames ...  0.384142\n",
       "19  Mais nous devons le conduire partout dans le m...  0.387688\n",
       "5   Alors face à cela, une génération, la nôtre, s...  0.396976\n",
       "8   Ces inégalités demeurent partout et sont profo...  0.418640\n",
       "17     Nous n'y sommes pas encore mais nous avançons.  0.433027\n",
       "9                       Nous connaissons les ennemis.  0.439593\n",
       "4   Des progrès ont été accomplis mais ils sont la...  0.443757\n",
       "12  Ce n'est pas un combat de femmes pour les femmes.  0.450724\n",
       "11                                 Alors décidons-le.  0.505742"
      ]
     },
     "execution_count": 15,
     "metadata": {},
     "output_type": "execute_result"
    }
   ],
   "source": [
    "distances = [cosine_distance(x, total_emb) for x in sentence_embs]\n",
    "dist = pd.DataFrame({\"sentence\": sentences, \"dist\": distances}).sort_values(\"dist\")\n",
    "dist"
   ]
  },
  {
   "cell_type": "code",
   "execution_count": 16,
   "metadata": {},
   "outputs": [
    {
     "name": "stdout",
     "output_type": "stream",
     "text": [
      "Bonjour, Je voulais m'adresser aujourd'hui à toutes et tous pour un message d'engagement et d'action à l'occasion de la Journée internationale des droits des femmes, et alors qu'est lancée partout dans le monde aujourd'hui même, la mobilisation générale pour le forum Génération égalité de Paris, le 7 juillet prochain.\n",
      "En effet, il y a 25 ans, à Pékin, la première grande conférence sur les droits des femmes avait lieu.\n",
      "1995 : il avait fallu attendre si tard, si longtemps et l'engagement de toute une génération pour que le combat pour le droit des femmes soit enfin reconnu comme partie intégrante du combat pour les droits de l'homme.\n",
      "L'égalité entre les femmes et les hommes est la grande cause de mon quinquennat.\n",
      "Alors je vous donne rendez-vous le 7 juillet prochain à Paris pour démontrer tous ensemble, par les actes, que nous sommes là, que nous ne reculerons pas, que nous obtiendrons des résultats tous ensemble.\n"
     ]
    }
   ],
   "source": [
    "print(\"\\n\".join(dist.iloc[:5].sort_index().sentence))"
   ]
  },
  {
   "cell_type": "code",
   "execution_count": 18,
   "metadata": {},
   "outputs": [
    {
     "name": "stdout",
     "output_type": "stream",
     "text": [
      "Des progrès ont été accomplis mais ils sont largement insuffisants, et parfois aujourd'hui, y compris en Europe, y compris dans les démocraties les plus avancées, largement remis en cause.\n",
      "Nous connaissons les ennemis.\n",
      "Alors décidons-le.\n",
      "Ce n'est pas un combat de femmes pour les femmes.\n",
      "Nous n'y sommes pas encore mais nous avançons.\n"
     ]
    }
   ],
   "source": [
    "print(\"\\n\".join(dist.iloc[-5:].sort_index().sentence))\n"
   ]
  },
  {
   "cell_type": "code",
   "execution_count": 22,
   "metadata": {},
   "outputs": [],
   "source": [
    "# Méthode d'Antoine : Clustering\n",
    "from sklearn.cluster import KMeans\n",
    "kmeans = KMeans(5).fit(sentence_embs)\n",
    "center_indices = [\n",
    "    int(np.argmin([cosine_distance(x, centroid) for x in sentence_embs]))\n",
    "    for centroid in kmeans.cluster_centers_\n",
    "]\n",
    "center_sentences = np.array(sentences)[sorted(center_indices)]"
   ]
  },
  {
   "cell_type": "code",
   "execution_count": 23,
   "metadata": {},
   "outputs": [
    {
     "data": {
      "text/plain": [
       "array([1, 3, 2, 3, 2, 0, 2, 2, 2, 0, 2, 0, 2, 1, 0, 1, 0, 3, 0, 0, 4, 1,\n",
       "       0, 1, 4])"
      ]
     },
     "execution_count": 23,
     "metadata": {},
     "output_type": "execute_result"
    }
   ],
   "source": [
    "kmeans.labels_"
   ]
  },
  {
   "cell_type": "code",
   "execution_count": 43,
   "metadata": {},
   "outputs": [
    {
     "name": "stdout",
     "output_type": "stream",
     "text": [
      "En effet , il y a 25 ans , à Pékin , la première grande conférence sur les droits des femmes avait lieu .\n",
      "Parce qu' il n' est pas question de reculer , parce que nous n' avons plus le temps d' attendre .\n",
      "Nous avons les moyens d' agir , d' unir nos forces , celles des Etats , des entreprises , de la société civile , des femmes et des hommes qui ont décidé de s' engager et d' agir .\n",
      "Alors je vous donne rendez-vous le 7 juillet prochain à Paris pour démontrer tous ensemble , par les actes , que nous sommes là , que nous ne reculerons pas , que nous obtiendrons des résultats tous ensemble .\n",
      "Parce que nous sommes la génération de l' égalité .   \n"
     ]
    }
   ],
   "source": [
    "print(\"\\n\".join(center_sentences))"
   ]
  },
  {
   "cell_type": "code",
   "execution_count": 62,
   "metadata": {},
   "outputs": [
    {
     "name": "stdout",
     "output_type": "stream",
     "text": [
      "Bonjour, Je voulais m'adresser aujourd'hui à toutes et tous pour un message d'engagement et d'action à l'occasion de la Journée internationale des droits des femmes, et alors qu'est lancée partout dans le monde aujourd'hui même, la mobilisation générale pour le forum Génération égalité de Paris, le 7 juillet prochain.\n",
      "En effet, il y a 25 ans, à Pékin, la première grande conférence sur les droits des femmes avait lieu.\n",
      "1995 : il avait fallu attendre si tard, si longtemps et l'engagement de toute une génération pour que le combat pour le droit des femmes soit enfin reconnu comme partie intégrante du combat pour les droits de l'homme.\n",
      "L'égalité entre les femmes et les hommes est la grande cause de mon quinquennat.\n",
      "Nous l'avons démontré lors du G7 de Biarritz, nous allons agir avec encore plus de force.\n"
     ]
    }
   ],
   "source": [
    "cluster_indices = [np.where(kmeans.labels_ == i)[0] for i in range(5)]\n",
    "center_indices = [cluster_indices[i][np.argmin([cosine_distance(total_emb, sentence_embs[k]) \n",
    "                                                for k in cluster_indices[i]])]\n",
    "    for i in range(5)]\n",
    "global_sentences = np.array(sentences)[sorted(center_indices)]\n",
    "print(\"\\n\".join(global_sentences))"
   ]
  },
  {
   "cell_type": "code",
   "execution_count": null,
   "metadata": {},
   "outputs": [],
   "source": [
    "import matplotlib.pyplot as plt\n",
    "import seaborn as sns"
   ]
  },
  {
   "cell_type": "code",
   "execution_count": 65,
   "metadata": {},
   "outputs": [
    {
     "data": {
      "text/plain": [
       "<AxesSubplot:>"
      ]
     },
     "execution_count": 65,
     "metadata": {},
     "output_type": "execute_result"
    },
    {
     "data": {
      "image/png": "[encoded data removed]",
      "text/plain": [
       "<Figure size 1152x648 with 1 Axes>"
      ]
     },
     "metadata": {
      "needs_background": "light"
     },
     "output_type": "display_data"
    }
   ],
   "source": [
    "plt.subplots(figsize=(16, 9))\n",
    "pca = PCA(2).fit_transform(sentence_embs)\n",
    "sns.scatterplot(x=pca[:, 0], y=pca[:, 1], hue=kmeans.labels_, style=kmeans.labels_, s=100)"
   ]
  },
  {
   "cell_type": "code",
   "execution_count": 45,
   "metadata": {},
   "outputs": [],
   "source": [
    "%matplotlib inline"
   ]
  },
  {
   "cell_type": "code",
   "execution_count": null,
   "metadata": {},
   "outputs": [],
   "source": []
  },
  {
   "cell_type": "code",
   "execution_count": 48,
   "metadata": {},
   "outputs": [],
   "source": [
    "sent = \"  Bonjour , Je voulais m' adresser aujourd'hui à toutes et tous pour un message d' engagement et d' action à l' occasion de la Journée internationale des droits des femmes , et alors qu' est lancée partout dans le monde aujourd'hui même , la mobilisation générale pour le forum Génération égalité de Paris , le 7 juillet prochain .\"\n",
    "words = [x.text for x in nlp(sent)]"
   ]
  },
  {
   "cell_type": "code",
   "execution_count": 49,
   "metadata": {},
   "outputs": [],
   "source": [
    "word_embs = st.encode(words)\n",
    "sent_emb = st.encode(sent)"
   ]
  },
  {
   "cell_type": "code",
   "execution_count": 59,
   "metadata": {},
   "outputs": [
    {
     "data": {
      "text/html": [
       "<div>\n",
       "<style scoped>\n",
       "    .dataframe tbody tr th:only-of-type {\n",
       "        vertical-align: middle;\n",
       "    }\n",
       "\n",
       "    .dataframe tbody tr th {\n",
       "        vertical-align: top;\n",
       "    }\n",
       "\n",
       "    .dataframe thead th {\n",
       "        text-align: right;\n",
       "    }\n",
       "</style>\n",
       "<table border=\"1\" class=\"dataframe\">\n",
       "  <thead>\n",
       "    <tr style=\"text-align: right;\">\n",
       "      <th></th>\n",
       "      <th>word</th>\n",
       "      <th>dist</th>\n",
       "    </tr>\n",
       "  </thead>\n",
       "  <tbody>\n",
       "    <tr>\n",
       "      <th>56</th>\n",
       "      <td>égalité</td>\n",
       "      <td>0.363080</td>\n",
       "    </tr>\n",
       "    <tr>\n",
       "      <th>58</th>\n",
       "      <td>Paris</td>\n",
       "      <td>0.379534</td>\n",
       "    </tr>\n",
       "    <tr>\n",
       "      <th>22</th>\n",
       "      <td>action</td>\n",
       "      <td>0.383341</td>\n",
       "    </tr>\n",
       "    <tr>\n",
       "      <th>34</th>\n",
       "      <td>femmes</td>\n",
       "      <td>0.385007</td>\n",
       "    </tr>\n",
       "    <tr>\n",
       "      <th>61</th>\n",
       "      <td>7</td>\n",
       "      <td>0.385286</td>\n",
       "    </tr>\n",
       "    <tr>\n",
       "      <th>...</th>\n",
       "      <td>...</td>\n",
       "      <td>...</td>\n",
       "    </tr>\n",
       "    <tr>\n",
       "      <th>14</th>\n",
       "      <td>un</td>\n",
       "      <td>0.495071</td>\n",
       "    </tr>\n",
       "    <tr>\n",
       "      <th>31</th>\n",
       "      <td>des</td>\n",
       "      <td>0.497072</td>\n",
       "    </tr>\n",
       "    <tr>\n",
       "      <th>33</th>\n",
       "      <td>des</td>\n",
       "      <td>0.497072</td>\n",
       "    </tr>\n",
       "    <tr>\n",
       "      <th>38</th>\n",
       "      <td>qu</td>\n",
       "      <td>0.497092</td>\n",
       "    </tr>\n",
       "    <tr>\n",
       "      <th>54</th>\n",
       "      <td>forum</td>\n",
       "      <td>0.503320</td>\n",
       "    </tr>\n",
       "  </tbody>\n",
       "</table>\n",
       "<p>65 rows × 2 columns</p>\n",
       "</div>"
      ],
      "text/plain": [
       "       word      dist\n",
       "56  égalité  0.363080\n",
       "58    Paris  0.379534\n",
       "22   action  0.383341\n",
       "34   femmes  0.385007\n",
       "61        7  0.385286\n",
       "..      ...       ...\n",
       "14       un  0.495071\n",
       "31      des  0.497072\n",
       "33      des  0.497072\n",
       "38       qu  0.497092\n",
       "54    forum  0.503320\n",
       "\n",
       "[65 rows x 2 columns]"
      ]
     },
     "execution_count": 59,
     "metadata": {},
     "output_type": "execute_result"
    }
   ],
   "source": [
    "dist = pd.DataFrame({\"word\": words, \"dist\": [cosine_distance(x, sent_emb) for x in word_embs]}).sort_values(\"dist\")\n",
    "dist"
   ]
  },
  {
   "cell_type": "code",
   "execution_count": 53,
   "metadata": {},
   "outputs": [],
   "source": [
    "pca = PCA().fit(word_embs)"
   ]
  },
  {
   "cell_type": "code",
   "execution_count": 54,
   "metadata": {},
   "outputs": [
    {
     "data": {
      "text/plain": [
       "array([[ 0.00587761, -0.06054205, -0.08186413, ..., -0.07214222,\n",
       "        -0.03522156, -0.0370748 ],\n",
       "       [ 0.01946543, -0.00062541, -0.04021171, ..., -0.00420557,\n",
       "         0.02483406,  0.00452526],\n",
       "       [-0.01705118, -0.02363103, -0.03332508, ...,  0.02354748,\n",
       "         0.00074671, -0.03179921],\n",
       "       ...,\n",
       "       [ 0.01605634,  0.03655903, -0.02642335, ...,  0.05275609,\n",
       "         0.00161429,  0.05044263],\n",
       "       [ 0.0148987 ,  0.03154301, -0.04542315, ..., -0.00737406,\n",
       "        -0.0311786 ,  0.00029867],\n",
       "       [ 0.02481516, -0.03155157, -0.01831825, ...,  0.04637079,\n",
       "        -0.082578  ,  0.0188059 ]], dtype=float32)"
      ]
     },
     "execution_count": 54,
     "metadata": {},
     "output_type": "execute_result"
    }
   ],
   "source": [
    "pca.components_[:10]"
   ]
  },
  {
   "cell_type": "code",
   "execution_count": 55,
   "metadata": {},
   "outputs": [],
   "source": [
    "dist = pd.DataFrame({\n",
    "    \"word\": words,\n",
    "    **{\n",
    "        f\"dist_{i:0>2}\": [cosine_distance(x, pca.components_[i]) for x in word_embs]\n",
    "        for i in range(10)\n",
    "    }\n",
    "}).set_index(\"word\")"
   ]
  },
  {
   "cell_type": "code",
   "execution_count": 56,
   "metadata": {},
   "outputs": [
    {
     "data": {
      "text/plain": [
       "dist_00      Paris\n",
       "dist_01      Paris\n",
       "dist_02      forum\n",
       "dist_03    égalité\n",
       "dist_04      monde\n",
       "dist_05     action\n",
       "dist_06     action\n",
       "dist_07          7\n",
       "dist_08     femmes\n",
       "dist_09    message\n",
       "dtype: object"
      ]
     },
     "execution_count": 56,
     "metadata": {},
     "output_type": "execute_result"
    }
   ],
   "source": [
    "dist.idxmin()"
   ]
  },
  {
   "cell_type": "code",
   "execution_count": 57,
   "metadata": {},
   "outputs": [
    {
     "data": {
      "text/html": [
       "<div>\n",
       "<style scoped>\n",
       "    .dataframe tbody tr th:only-of-type {\n",
       "        vertical-align: middle;\n",
       "    }\n",
       "\n",
       "    .dataframe tbody tr th {\n",
       "        vertical-align: top;\n",
       "    }\n",
       "\n",
       "    .dataframe thead th {\n",
       "        text-align: right;\n",
       "    }\n",
       "</style>\n",
       "<table border=\"1\" class=\"dataframe\">\n",
       "  <thead>\n",
       "    <tr style=\"text-align: right;\">\n",
       "      <th></th>\n",
       "      <th>0</th>\n",
       "      <th>1</th>\n",
       "      <th>2</th>\n",
       "      <th>3</th>\n",
       "      <th>4</th>\n",
       "      <th>5</th>\n",
       "      <th>6</th>\n",
       "      <th>7</th>\n",
       "      <th>8</th>\n",
       "      <th>9</th>\n",
       "    </tr>\n",
       "  </thead>\n",
       "  <tbody>\n",
       "    <tr>\n",
       "      <th>0</th>\n",
       "      <td>-2.384186e-07</td>\n",
       "      <td>5.000000e-01</td>\n",
       "      <td>4.999999e-01</td>\n",
       "      <td>5.000000e-01</td>\n",
       "      <td>5.000000e-01</td>\n",
       "      <td>5.000000e-01</td>\n",
       "      <td>0.5</td>\n",
       "      <td>5.000000e-01</td>\n",
       "      <td>5.000000e-01</td>\n",
       "      <td>5.000000e-01</td>\n",
       "    </tr>\n",
       "    <tr>\n",
       "      <th>1</th>\n",
       "      <td>5.000000e-01</td>\n",
       "      <td>5.960464e-08</td>\n",
       "      <td>5.000000e-01</td>\n",
       "      <td>5.000000e-01</td>\n",
       "      <td>5.000000e-01</td>\n",
       "      <td>5.000000e-01</td>\n",
       "      <td>0.5</td>\n",
       "      <td>5.000000e-01</td>\n",
       "      <td>5.000000e-01</td>\n",
       "      <td>5.000000e-01</td>\n",
       "    </tr>\n",
       "    <tr>\n",
       "      <th>2</th>\n",
       "      <td>4.999999e-01</td>\n",
       "      <td>5.000000e-01</td>\n",
       "      <td>-3.576279e-07</td>\n",
       "      <td>5.000001e-01</td>\n",
       "      <td>5.000000e-01</td>\n",
       "      <td>4.999999e-01</td>\n",
       "      <td>0.5</td>\n",
       "      <td>5.000000e-01</td>\n",
       "      <td>5.000000e-01</td>\n",
       "      <td>5.000000e-01</td>\n",
       "    </tr>\n",
       "    <tr>\n",
       "      <th>3</th>\n",
       "      <td>5.000000e-01</td>\n",
       "      <td>5.000000e-01</td>\n",
       "      <td>5.000001e-01</td>\n",
       "      <td>2.384186e-07</td>\n",
       "      <td>5.000000e-01</td>\n",
       "      <td>5.000000e-01</td>\n",
       "      <td>0.5</td>\n",
       "      <td>5.000000e-01</td>\n",
       "      <td>5.000000e-01</td>\n",
       "      <td>5.000000e-01</td>\n",
       "    </tr>\n",
       "    <tr>\n",
       "      <th>4</th>\n",
       "      <td>5.000000e-01</td>\n",
       "      <td>5.000000e-01</td>\n",
       "      <td>5.000000e-01</td>\n",
       "      <td>5.000000e-01</td>\n",
       "      <td>2.980232e-08</td>\n",
       "      <td>5.000000e-01</td>\n",
       "      <td>0.5</td>\n",
       "      <td>4.999999e-01</td>\n",
       "      <td>5.000000e-01</td>\n",
       "      <td>5.000000e-01</td>\n",
       "    </tr>\n",
       "    <tr>\n",
       "      <th>5</th>\n",
       "      <td>5.000000e-01</td>\n",
       "      <td>5.000000e-01</td>\n",
       "      <td>4.999999e-01</td>\n",
       "      <td>5.000000e-01</td>\n",
       "      <td>5.000000e-01</td>\n",
       "      <td>1.192093e-07</td>\n",
       "      <td>0.5</td>\n",
       "      <td>5.000000e-01</td>\n",
       "      <td>5.000000e-01</td>\n",
       "      <td>5.000001e-01</td>\n",
       "    </tr>\n",
       "    <tr>\n",
       "      <th>6</th>\n",
       "      <td>5.000000e-01</td>\n",
       "      <td>5.000000e-01</td>\n",
       "      <td>5.000001e-01</td>\n",
       "      <td>5.000000e-01</td>\n",
       "      <td>5.000000e-01</td>\n",
       "      <td>5.000001e-01</td>\n",
       "      <td>0.0</td>\n",
       "      <td>4.999999e-01</td>\n",
       "      <td>5.000000e-01</td>\n",
       "      <td>5.000001e-01</td>\n",
       "    </tr>\n",
       "    <tr>\n",
       "      <th>7</th>\n",
       "      <td>5.000000e-01</td>\n",
       "      <td>5.000000e-01</td>\n",
       "      <td>5.000000e-01</td>\n",
       "      <td>5.000000e-01</td>\n",
       "      <td>4.999999e-01</td>\n",
       "      <td>5.000000e-01</td>\n",
       "      <td>0.5</td>\n",
       "      <td>-1.788139e-07</td>\n",
       "      <td>5.000000e-01</td>\n",
       "      <td>5.000000e-01</td>\n",
       "    </tr>\n",
       "    <tr>\n",
       "      <th>8</th>\n",
       "      <td>5.000000e-01</td>\n",
       "      <td>5.000000e-01</td>\n",
       "      <td>5.000000e-01</td>\n",
       "      <td>5.000000e-01</td>\n",
       "      <td>5.000000e-01</td>\n",
       "      <td>5.000000e-01</td>\n",
       "      <td>0.5</td>\n",
       "      <td>5.000000e-01</td>\n",
       "      <td>-1.192093e-07</td>\n",
       "      <td>5.000002e-01</td>\n",
       "    </tr>\n",
       "    <tr>\n",
       "      <th>9</th>\n",
       "      <td>5.000000e-01</td>\n",
       "      <td>5.000000e-01</td>\n",
       "      <td>5.000000e-01</td>\n",
       "      <td>5.000000e-01</td>\n",
       "      <td>5.000000e-01</td>\n",
       "      <td>5.000001e-01</td>\n",
       "      <td>0.5</td>\n",
       "      <td>5.000000e-01</td>\n",
       "      <td>5.000002e-01</td>\n",
       "      <td>1.192093e-07</td>\n",
       "    </tr>\n",
       "  </tbody>\n",
       "</table>\n",
       "</div>"
      ],
      "text/plain": [
       "              0             1             2             3             4  \\\n",
       "0 -2.384186e-07  5.000000e-01  4.999999e-01  5.000000e-01  5.000000e-01   \n",
       "1  5.000000e-01  5.960464e-08  5.000000e-01  5.000000e-01  5.000000e-01   \n",
       "2  4.999999e-01  5.000000e-01 -3.576279e-07  5.000001e-01  5.000000e-01   \n",
       "3  5.000000e-01  5.000000e-01  5.000001e-01  2.384186e-07  5.000000e-01   \n",
       "4  5.000000e-01  5.000000e-01  5.000000e-01  5.000000e-01  2.980232e-08   \n",
       "5  5.000000e-01  5.000000e-01  4.999999e-01  5.000000e-01  5.000000e-01   \n",
       "6  5.000000e-01  5.000000e-01  5.000001e-01  5.000000e-01  5.000000e-01   \n",
       "7  5.000000e-01  5.000000e-01  5.000000e-01  5.000000e-01  4.999999e-01   \n",
       "8  5.000000e-01  5.000000e-01  5.000000e-01  5.000000e-01  5.000000e-01   \n",
       "9  5.000000e-01  5.000000e-01  5.000000e-01  5.000000e-01  5.000000e-01   \n",
       "\n",
       "              5    6             7             8             9  \n",
       "0  5.000000e-01  0.5  5.000000e-01  5.000000e-01  5.000000e-01  \n",
       "1  5.000000e-01  0.5  5.000000e-01  5.000000e-01  5.000000e-01  \n",
       "2  4.999999e-01  0.5  5.000000e-01  5.000000e-01  5.000000e-01  \n",
       "3  5.000000e-01  0.5  5.000000e-01  5.000000e-01  5.000000e-01  \n",
       "4  5.000000e-01  0.5  4.999999e-01  5.000000e-01  5.000000e-01  \n",
       "5  1.192093e-07  0.5  5.000000e-01  5.000000e-01  5.000001e-01  \n",
       "6  5.000001e-01  0.0  4.999999e-01  5.000000e-01  5.000001e-01  \n",
       "7  5.000000e-01  0.5 -1.788139e-07  5.000000e-01  5.000000e-01  \n",
       "8  5.000000e-01  0.5  5.000000e-01 -1.192093e-07  5.000002e-01  \n",
       "9  5.000001e-01  0.5  5.000000e-01  5.000002e-01  1.192093e-07  "
      ]
     },
     "execution_count": 57,
     "metadata": {},
     "output_type": "execute_result"
    }
   ],
   "source": [
    "get_pairwise_metric_matrix(pca.components_[:10], metric=\"cosine_dist\", labels=[str(x) for x in range(10)])"
   ]
  },
  {
   "cell_type": "code",
   "execution_count": null,
   "metadata": {},
   "outputs": [],
   "source": []
  }
 ],
 "metadata": {
  "kernelspec": {
   "display_name": "Python 3",
   "language": "python",
   "name": "python3"
  },
  "language_info": {
   "codemirror_mode": {
    "name": "ipython",
    "version": 3
   },
   "file_extension": ".py",
   "mimetype": "text/x-python",
   "name": "python",
   "nbconvert_exporter": "python",
   "pygments_lexer": "ipython3",
   "version": "3.8.5"
  }
 },
 "nbformat": 4,
 "nbformat_minor": 2
}
