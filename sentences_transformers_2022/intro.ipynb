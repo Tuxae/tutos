{
 "cells": [
  {
   "cell_type": "code",
   "execution_count": 10,
   "metadata": {},
   "outputs": [],
   "source": [
    "import numpy as np\n",
    "import pandas as pd\n",
    "from sklearn.decomposition import PCA\n",
    "\n",
    "from sentence_transformers import SentenceTransformer\n",
    "st = SentenceTransformer(\"xlm-r-bert-base-nli-stsb-mean-tokens\")\n",
    "from utils import read_text_file, cosine_distance, get_pairwise_metric_matrix, scatter_with_annotations"
   ]
  },
  {
   "cell_type": "code",
   "execution_count": 11,
   "metadata": {},
   "outputs": [],
   "source": [
    "import matplotlib.pyplot as plt\n",
    "import seaborn as sns"
   ]
  },
  {
   "cell_type": "code",
   "execution_count": 12,
   "metadata": {},
   "outputs": [],
   "source": [
    "emb = st.encode(\"Nous sommes l'association étudiante d'informatique et de Machine Learning\")"
   ]
  },
  {
   "cell_type": "code",
   "execution_count": 13,
   "metadata": {},
   "outputs": [
    {
     "data": {
      "text/plain": [
       "array([-0.5116063 , -0.1702759 ,  0.6000131 ,  0.26557836,  0.24356903,\n",
       "       -0.5051963 ,  0.14486994,  0.56502074, -0.0753578 , -0.5102079 ,\n",
       "       -0.22702391,  0.35609567, -0.23093054,  0.26107812, -0.3869759 ,\n",
       "       -0.5252484 , -0.5532406 , -0.25615817,  0.27370295, -0.10037812,\n",
       "       -0.15237667, -0.5707825 ,  0.2596572 ,  0.03321819, -0.30191293,\n",
       "        0.2067276 , -0.2048009 , -0.22832243, -0.3575661 ,  0.42973602,\n",
       "       -0.20679839,  0.10766684,  0.6340269 ,  0.01528941,  0.08671219,\n",
       "       -0.4291401 ,  0.4868241 ,  0.45528275,  0.24717744,  0.23606427,\n",
       "       -0.2131108 , -0.36790106, -0.09374759, -0.22373512, -0.70046127,\n",
       "       -0.856228  , -1.2547975 ,  0.49451774,  0.3805096 , -0.32384408,\n",
       "       -0.94045925,  1.0581636 ,  0.13868295,  0.15416975, -0.6199382 ,\n",
       "        0.7472584 ,  0.4819641 , -0.7709082 ,  0.15738851,  0.2881516 ,\n",
       "       -0.6516412 ,  0.0819158 ,  0.23311074,  0.09430356, -0.03676318,\n",
       "        0.4221284 ,  1.4451733 , -0.41355646, -0.624521  , -0.03357789,\n",
       "        0.05614424, -0.112878  , -0.89305085, -0.08599758, -0.12439179,\n",
       "       -0.15833086,  0.2682893 , -0.18043478,  1.4381204 , -0.13091393,\n",
       "       -0.24767286,  0.06066422,  0.40330127,  0.53777707,  0.6271157 ,\n",
       "       -0.44869968,  0.32983133,  0.12047151, -0.23110956, -0.4711781 ,\n",
       "       -0.5311721 ,  0.01968958, -0.10847011, -0.19774765, -0.19544359,\n",
       "       -0.6116108 ,  0.39430007, -0.03859577, -0.4031787 ,  0.05786341,\n",
       "       -0.2683977 ,  0.00967219, -0.17363212, -0.429022  ,  0.04050909,\n",
       "       -0.2880858 ,  0.14049362, -0.46720585, -0.89099556,  0.15448743,\n",
       "        0.5427436 , -0.6911136 ,  0.10117037,  1.1487548 , -0.6365607 ,\n",
       "        0.14198624, -0.04955162, -0.10936429,  0.36408222,  0.43230802,\n",
       "       -0.85457623,  0.61302763, -0.4441962 ,  0.22071296,  0.23796767,\n",
       "        0.5616576 , -0.16919199,  0.36456344, -0.53189415, -0.63428843,\n",
       "        0.95418984,  0.1439486 ,  1.148182  , -0.4763528 ,  0.44092917,\n",
       "        0.15001838, -0.4571628 ,  0.03843859, -0.4957441 ,  0.2901158 ,\n",
       "        0.05042816,  0.0687764 , -0.04572268,  0.22212087,  0.75355065,\n",
       "       -0.49673924, -0.29429486, -0.1542155 , -0.46204102,  0.04261287,\n",
       "       -0.6327069 ,  0.04797735, -1.3304127 , -0.9484562 , -0.71730113,\n",
       "       -0.05625958, -1.2510186 , -0.21239239,  0.25102457,  0.5044293 ,\n",
       "        0.03395667,  0.34784973, -0.8967364 ,  0.2227544 , -0.2390323 ,\n",
       "        0.5255692 ,  0.39808396, -0.9571832 ,  0.6679659 ,  0.83047944,\n",
       "        0.30600497, -0.05547974, -0.03946241,  0.08463757, -0.45777857,\n",
       "       -0.60905784,  0.4551882 , -0.2709695 , -0.09230402, -0.94375676,\n",
       "        0.19769995, -0.39932117, -0.39167774,  0.2796569 , -0.700915  ,\n",
       "       -0.3823715 ,  0.4605142 , -0.19457904, -0.03089487,  0.4226946 ,\n",
       "       -0.10927968,  0.44253924, -0.04375707, -0.24818489,  0.7144077 ,\n",
       "        0.2574158 , -0.5511847 ,  0.65091735, -0.6402824 ,  0.5470835 ,\n",
       "        0.2539742 , -0.40573004, -0.07846624, -1.092185  , -0.48493344,\n",
       "       -0.12349495, -0.76096493,  0.16670597, -0.3934232 , -0.29385403,\n",
       "       -0.14914179,  0.8429344 ,  0.15216865,  0.5907359 ,  0.26675677,\n",
       "        0.41404068,  0.37767768, -0.37670302,  0.11020888,  0.4118873 ,\n",
       "        0.33769158, -0.48208678,  0.35209113,  0.10067276, -0.10802375,\n",
       "        0.9923691 ,  0.39659202, -0.09871972,  0.3261343 ,  0.06752577,\n",
       "        0.26204297, -0.64869285,  0.4073327 ,  0.28162473,  0.05576311,\n",
       "        0.2960851 , -0.78875947, -0.32321012,  0.5772706 ,  0.47813764,\n",
       "        0.13750698,  0.5786779 , -0.6653916 , -0.5107843 ,  0.48653093,\n",
       "       -0.7014392 , -0.06309734,  0.5978459 , -0.3879499 , -0.421682  ,\n",
       "       -0.34596765, -0.29763383,  0.5116186 , -0.66129893, -0.6383337 ,\n",
       "        0.40192726, -0.76115394, -0.62204814, -0.258942  ,  0.9297536 ,\n",
       "       -0.77985555, -0.61997676, -0.27322102,  0.23896807,  0.32830346,\n",
       "       -1.1389034 , -0.12956335,  0.67689896, -0.23433381, -0.51178414,\n",
       "       -0.6025913 , -0.75874525, -0.1290703 ,  0.11169039, -0.05668358,\n",
       "        0.05665185,  0.05541623, -0.05659658, -0.4445147 , -0.29883513,\n",
       "       -0.5322273 , -0.2883011 , -0.24361123, -0.12950286, -0.20169091,\n",
       "        0.7108002 ,  0.17175418,  0.05082005, -0.06216057,  0.02514859,\n",
       "       -0.10110421, -0.24124414, -1.025637  ,  0.32512254,  0.29950666,\n",
       "        0.3624374 ,  0.11876918, -0.4823364 , -0.09896436, -0.33081573,\n",
       "       -0.31989416,  0.7630882 , -1.0199126 , -0.18157132,  0.41553602,\n",
       "       -0.3337425 ,  0.06357969,  0.15424964, -0.6621029 , -0.8337327 ,\n",
       "        0.306399  ,  0.22765848, -0.05012253, -0.32877976, -0.26653206,\n",
       "        0.01386596, -0.10636786,  0.23728201, -0.39591444, -0.20511825,\n",
       "       -0.3970002 ,  0.8944901 ,  0.38625064,  0.9631766 ,  0.11567254,\n",
       "        0.5211153 , -0.06960339, -0.5251794 , -0.11450663, -0.25946152,\n",
       "       -0.2363041 ,  0.6131995 , -0.16200091, -0.13336498, -0.24205303,\n",
       "        0.18897843, -0.4777788 , -0.37349892,  0.81872684, -0.16936773,\n",
       "       -0.12002354,  0.407756  , -0.25089872,  0.31041834,  0.6997471 ,\n",
       "        0.01767094,  0.32724792, -0.02277659,  0.09924454,  0.49192572,\n",
       "        0.12336092, -1.095078  , -0.00302959,  0.6131705 , -0.60959387,\n",
       "       -0.34551826,  0.6184365 ,  0.23285657, -0.39358604,  0.35932237,\n",
       "        0.4393724 ,  0.05118873,  0.03135155, -0.21938665, -0.4286309 ,\n",
       "        0.09603027, -0.2883423 , -0.3000231 , -0.19236256,  0.20864248,\n",
       "        0.37828103, -1.2716945 , -0.6880307 , -0.43844742, -0.33760417,\n",
       "        0.12079287, -0.22740562, -0.13176472,  0.81171364,  0.25750253,\n",
       "       -0.58789134, -0.14414062, -0.3459236 ,  0.05514826, -0.6128852 ,\n",
       "        0.27764973,  0.42601198,  0.87105805,  0.26995784,  0.31818128,\n",
       "       -0.36136183, -0.01885693, -0.26749963, -0.5584075 ,  0.5040424 ,\n",
       "       -0.7499327 , -0.07357613, -0.03242756, -0.20195273, -0.31102455,\n",
       "       -0.14686853,  0.5052817 ,  0.9111144 , -0.6553724 ,  0.03420277,\n",
       "       -0.26470515,  1.2733322 , -0.21770431,  0.21359788, -0.4898933 ,\n",
       "        0.23653099, -0.0343503 , -0.0303328 ,  0.58841825, -0.0697082 ,\n",
       "        0.25711876,  0.28474104, -0.13951525, -0.4572764 , -0.12464959,\n",
       "       -0.48650488, -0.06672373, -0.15069634,  0.01334438, -0.37745148,\n",
       "       -0.07605264,  0.3738265 , -0.7687607 , -0.72146356,  0.20480296,\n",
       "        0.7974794 ,  0.28365535, -0.5527613 , -0.40744063, -0.24066108,\n",
       "        0.24250531,  0.04672771, -0.26412755,  0.31569323,  0.2955698 ,\n",
       "       -0.11732487, -0.46888813,  0.09697198, -0.37481344, -0.09218241,\n",
       "        0.53903854,  0.30342585, -0.6857582 , -0.05774429,  0.15987918,\n",
       "        0.42188373,  0.10505155,  0.43068492, -0.32796597, -0.06229871,\n",
       "        0.2854486 ,  0.07952088, -0.86477864,  0.17276639, -0.74955016,\n",
       "       -0.19318819,  0.4878939 , -0.03410017, -0.09831437, -0.06652562,\n",
       "        0.5249515 , -0.9775283 ,  0.69836617,  0.39626002,  0.76360774,\n",
       "        0.5190558 , -0.03512016, -0.2499441 ,  0.21346556,  0.3809017 ,\n",
       "       -0.68486816, -0.19186121,  0.18371603,  0.81257015, -0.10300809,\n",
       "        0.05119313,  0.4614302 ,  0.17004499, -0.5362621 ,  0.10492565,\n",
       "       -0.37789646, -0.02862165,  0.21059825,  0.26788056, -0.10668311,\n",
       "       -0.6582124 ,  0.47030523, -0.720422  , -0.63187087, -0.49273136,\n",
       "       -0.1641106 , -0.51036304, -0.17275923,  0.2691066 ,  0.05735493,\n",
       "        0.3661181 ,  0.30963597, -0.5517536 ,  0.3861924 ,  0.26388335,\n",
       "        0.22875237, -0.19771928, -0.06368497, -0.5431545 ,  0.5574555 ,\n",
       "        0.03482999, -0.08672895,  0.69414586,  0.3929367 , -0.06273308,\n",
       "       -0.7166045 , -0.0952563 ,  0.46082804,  0.02265508,  0.4997603 ,\n",
       "        0.319327  , -0.33721584, -0.09936407, -1.2244517 ,  0.4829641 ,\n",
       "        0.41253933,  0.36349434,  0.23378518,  0.10273764,  0.6676871 ,\n",
       "       -0.00949867, -0.08258753, -0.33632395, -0.09583816,  0.11277413,\n",
       "        0.34851187, -0.19542284, -0.06475321,  0.23506594, -0.28408638,\n",
       "        0.55306304,  0.13919996,  0.3203047 ,  0.28958747, -0.1460967 ,\n",
       "       -0.13448949,  0.9663125 , -0.1839801 , -0.5344258 , -0.3946144 ,\n",
       "       -0.777283  ,  0.0106598 , -0.86854804, -0.29993472, -1.0500491 ,\n",
       "       -0.4702214 , -0.29446635, -0.09271836, -0.14625165, -0.5548896 ,\n",
       "        0.08368196, -0.14657035,  0.31084928, -0.22962318, -0.1673946 ,\n",
       "       -0.39963698,  0.5567556 , -0.1918314 , -0.07649222,  0.2923935 ,\n",
       "       -0.4462046 , -0.5467294 , -0.58143574,  1.1606749 ,  0.01499992,\n",
       "        0.05146192,  0.60468936,  0.66607827, -0.74452233, -0.33271348,\n",
       "       -0.14598016,  0.21509439, -0.01205655, -0.22745068,  0.28769988,\n",
       "       -0.13859755, -0.28849748, -0.44343138,  0.42714533, -0.13361871,\n",
       "        0.22056133,  0.01647305,  0.5754611 , -0.0183437 , -0.28485096,\n",
       "       -0.04560797,  0.63440406,  0.4652413 ,  0.34076154,  0.04820373,\n",
       "        0.11263815, -0.58257556, -0.60187936, -0.02574757,  0.08807389,\n",
       "        0.04432435, -0.1769597 ,  0.62898654, -0.19906917,  0.18644407,\n",
       "       -0.73729235, -0.26821697, -0.270525  , -0.06700233,  0.24745876,\n",
       "        0.05236175, -0.47311667,  0.26919788, -0.02139777,  0.46182692,\n",
       "       -0.05521293,  0.4748845 , -0.48344338, -0.49182096, -0.06399108,\n",
       "       -0.9188497 ,  0.39432204,  0.5779388 ,  0.31016076,  0.17022052,\n",
       "        0.6147373 ,  0.32720205, -0.06524753, -0.41975778,  0.8080509 ,\n",
       "       -0.2549133 , -0.9628327 ,  0.3296173 ,  0.26460427, -0.08045201,\n",
       "        0.20688128,  0.40447262,  0.05698583, -0.5450523 , -0.09403684,\n",
       "       -0.28228197, -0.002952  ,  0.8758738 ,  0.58048683,  0.44835997,\n",
       "        0.3130256 , -0.22356895,  0.69595647,  0.5193266 ,  0.5433547 ,\n",
       "        0.25385788,  0.5346534 , -0.6109136 ,  0.8314062 ,  0.17863251,\n",
       "       -0.05604063,  0.17534736,  1.011865  , -0.67190593,  0.7177013 ,\n",
       "       -0.06568535,  0.64468473, -0.5621703 ,  0.39467993, -1.453308  ,\n",
       "        0.4725799 ,  0.28145757, -0.8727968 ,  0.18367139,  0.6678    ,\n",
       "       -0.32655355,  0.20602302, -0.3962809 ,  0.19780107, -0.5026864 ,\n",
       "        0.24644025, -0.3739627 , -0.28085855,  0.12296508,  0.35887492,\n",
       "        0.27287376,  0.12826964, -0.29325455,  1.3265247 ,  0.59734917,\n",
       "        0.39875758, -0.12323619, -0.15607493, -0.59739774,  0.05246662,\n",
       "       -0.0080203 ,  0.10850114, -0.18012418, -0.438569  , -0.36602092,\n",
       "        0.3896557 ,  0.2588569 ,  0.5843935 ,  0.08511773, -0.7292438 ,\n",
       "        0.14289767,  0.0892144 ,  0.19313137,  0.09891735, -0.5381738 ,\n",
       "        0.1105485 ,  0.32998207,  0.65716773, -0.09629754,  0.6059425 ,\n",
       "       -0.62552804,  0.20347038,  0.43975884, -0.03358962, -0.01364918,\n",
       "        0.5782095 ,  0.20300788, -0.4988007 ,  0.5233646 , -0.04291625,\n",
       "       -0.22532333,  0.5223169 , -0.07795311, -0.09091722,  0.1345918 ,\n",
       "        0.53715235, -0.5868132 ,  0.40959647,  0.3196337 , -0.24088532,\n",
       "       -0.27961513,  0.31179708, -0.36772224,  0.2954792 , -0.02263819,\n",
       "        0.1843734 , -0.00762654, -0.22178999, -0.32733014, -0.02257076,\n",
       "        0.05062823, -0.17550118,  0.1040009 , -0.26183647,  0.04745498,\n",
       "        0.31053755, -0.8483033 ,  0.15034662, -0.02773042, -0.00375791,\n",
       "       -0.24696681, -0.25176892, -0.91664875, -0.2067798 ,  0.35911167,\n",
       "       -0.2961222 , -0.878123  , -0.20339316, -0.15084095,  0.364682  ,\n",
       "        0.0860667 , -0.76392424,  0.26507372], dtype=float32)"
      ]
     },
     "execution_count": 13,
     "metadata": {},
     "output_type": "execute_result"
    }
   ],
   "source": [
    "emb"
   ]
  },
  {
   "cell_type": "code",
   "execution_count": 14,
   "metadata": {},
   "outputs": [],
   "source": [
    "inputs = [\n",
    "    \"Bonjour ! Comment ça va ? :)\",\n",
    "    \"Salut mon vieux, ça gaze ?\",\n",
    "    \"Putain je te déteste va mourir\",\n",
    "    \"Hey man, it's nice to see you!\",\n",
    "    \"Fuck this shit I hate you!!!\",\n",
    "]\n",
    "labels = [\"gentil_1\", \"gentil_2\", \"méchant\", \"gentil_en\", \"méchant_en\"]\n",
    "\n",
    "emb = st.encode(inputs, device=\"cpu\")"
   ]
  },
  {
   "cell_type": "code",
   "execution_count": 15,
   "metadata": {},
   "outputs": [
    {
     "data": {
      "text/html": [
       "<div>\n",
       "<style scoped>\n",
       "    .dataframe tbody tr th:only-of-type {\n",
       "        vertical-align: middle;\n",
       "    }\n",
       "\n",
       "    .dataframe tbody tr th {\n",
       "        vertical-align: top;\n",
       "    }\n",
       "\n",
       "    .dataframe thead th {\n",
       "        text-align: right;\n",
       "    }\n",
       "</style>\n",
       "<table border=\"1\" class=\"dataframe\">\n",
       "  <thead>\n",
       "    <tr style=\"text-align: right;\">\n",
       "      <th></th>\n",
       "      <th>gentil_1</th>\n",
       "      <th>gentil_2</th>\n",
       "      <th>méchant</th>\n",
       "      <th>gentil_en</th>\n",
       "      <th>méchant_en</th>\n",
       "    </tr>\n",
       "  </thead>\n",
       "  <tbody>\n",
       "    <tr>\n",
       "      <th>gentil_1</th>\n",
       "      <td>0.00</td>\n",
       "      <td>0.15</td>\n",
       "      <td>0.50</td>\n",
       "      <td>0.24</td>\n",
       "      <td>0.48</td>\n",
       "    </tr>\n",
       "    <tr>\n",
       "      <th>gentil_2</th>\n",
       "      <td>0.15</td>\n",
       "      <td>0.00</td>\n",
       "      <td>0.46</td>\n",
       "      <td>0.23</td>\n",
       "      <td>0.44</td>\n",
       "    </tr>\n",
       "    <tr>\n",
       "      <th>méchant</th>\n",
       "      <td>0.50</td>\n",
       "      <td>0.46</td>\n",
       "      <td>0.00</td>\n",
       "      <td>0.52</td>\n",
       "      <td>0.13</td>\n",
       "    </tr>\n",
       "    <tr>\n",
       "      <th>gentil_en</th>\n",
       "      <td>0.24</td>\n",
       "      <td>0.23</td>\n",
       "      <td>0.52</td>\n",
       "      <td>0.00</td>\n",
       "      <td>0.49</td>\n",
       "    </tr>\n",
       "    <tr>\n",
       "      <th>méchant_en</th>\n",
       "      <td>0.48</td>\n",
       "      <td>0.44</td>\n",
       "      <td>0.13</td>\n",
       "      <td>0.49</td>\n",
       "      <td>0.00</td>\n",
       "    </tr>\n",
       "  </tbody>\n",
       "</table>\n",
       "</div>"
      ],
      "text/plain": [
       "            gentil_1  gentil_2  méchant  gentil_en  méchant_en\n",
       "gentil_1        0.00      0.15     0.50       0.24        0.48\n",
       "gentil_2        0.15      0.00     0.46       0.23        0.44\n",
       "méchant         0.50      0.46     0.00       0.52        0.13\n",
       "gentil_en       0.24      0.23     0.52       0.00        0.49\n",
       "méchant_en      0.48      0.44     0.13       0.49        0.00"
      ]
     },
     "execution_count": 15,
     "metadata": {},
     "output_type": "execute_result"
    }
   ],
   "source": [
    "get_pairwise_metric_matrix(emb, metric=\"cosine_dist\", labels=labels).round(2)"
   ]
  },
  {
   "cell_type": "code",
   "execution_count": 16,
   "metadata": {},
   "outputs": [],
   "source": [
    "pca = PCA(2).fit_transform(emb)"
   ]
  },
  {
   "cell_type": "code",
   "execution_count": 17,
   "metadata": {
    "scrolled": false
   },
   "outputs": [
    {
     "data": {
      "text/plain": [
       "<AxesSubplot:>"
      ]
     },
     "execution_count": 17,
     "metadata": {},
     "output_type": "execute_result"
    },
    {
     "data": {
      "image/png": "[encoded data removed]",
      "text/plain": [
       "<Figure size 1152x648 with 1 Axes>"
      ]
     },
     "metadata": {
      "needs_background": "light"
     },
     "output_type": "display_data"
    }
   ],
   "source": [
    "scatter_with_annotations(pca, labels)"
   ]
  },
  {
   "cell_type": "code",
   "execution_count": 18,
   "metadata": {},
   "outputs": [],
   "source": [
    "inputs = [\n",
    "    \"I am a cow\",\n",
    "    \"My nature is that of a bovine\",\n",
    "    \"Je suis un mammifère connu pour son lait et sa viande rouge\",\n",
    "    \"L'informatique c'est vraiment un truc de cracks !\",\n",
    "    \"According to Tux, computer scientists are the best !\",\n",
    "    \"Machine Learning is a revolutionary tool\"\n",
    "]\n",
    "labels = [\"vache_1\", \"vache_2\", \"vache_3\", \"informatique_1\", \"informatique_2\", \"informatique_3\"]\n",
    "\n",
    "emb = st.encode(inputs, device=\"cpu\")"
   ]
  },
  {
   "cell_type": "code",
   "execution_count": 19,
   "metadata": {},
   "outputs": [
    {
     "data": {
      "text/plain": [
       "<AxesSubplot:>"
      ]
     },
     "execution_count": 19,
     "metadata": {},
     "output_type": "execute_result"
    },
    {
     "data": {
      "image/png": "[encoded data removed]",
      "text/plain": [
       "<Figure size 1152x648 with 1 Axes>"
      ]
     },
     "metadata": {
      "needs_background": "light"
     },
     "output_type": "display_data"
    }
   ],
   "source": [
    "pca = PCA(2).fit_transform(emb)\n",
    "scatter_with_annotations(pca, labels)"
   ]
  },
  {
   "cell_type": "code",
   "execution_count": 20,
   "metadata": {},
   "outputs": [
    {
     "data": {
      "text/plain": [
       "(6, 768)"
      ]
     },
     "execution_count": 20,
     "metadata": {},
     "output_type": "execute_result"
    }
   ],
   "source": [
    "emb.shape"
   ]
  }
 ],
 "metadata": {
  "kernelspec": {
   "display_name": "Python 3",
   "language": "python",
   "name": "python3"
  },
  "language_info": {
   "codemirror_mode": {
    "name": "ipython",
    "version": 3
   },
   "file_extension": ".py",
   "mimetype": "text/x-python",
   "name": "python",
   "nbconvert_exporter": "python",
   "pygments_lexer": "ipython3",
   "version": "3.8.5"
  }
 },
 "nbformat": 4,
 "nbformat_minor": 2
}
