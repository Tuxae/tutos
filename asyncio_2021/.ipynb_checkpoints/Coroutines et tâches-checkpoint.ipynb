{
 "cells": [
  {
   "cell_type": "code",
   "execution_count": 3,
   "metadata": {},
   "outputs": [],
   "source": [
    "# !pip install asyncio"
   ]
  },
  {
   "cell_type": "code",
   "execution_count": 2,
   "metadata": {},
   "outputs": [],
   "source": [
    "import asyncio"
   ]
  },
  {
   "cell_type": "markdown",
   "metadata": {},
   "source": [
    "La bibliothèque asyncio permet de gérer plusieurs actions en parallèle de manière *asynchrone*. Quand on définit les objets asynchrones, on définit en fait la marche à suivre lors de leur execution, puis au moment de les executer, on doit les attendre. On parle d'objets *attendables* (ou en anglais *awaitable*)"
   ]
  },
  {
   "cell_type": "markdown",
   "metadata": {},
   "source": [
    "## 1. Les objets attendables\n",
    "### 1.1. Les coroutines\n",
    "\n",
    "Les coroutines sont des fonctions déclarées avec la syntaxe `async def` au lieu de mettre simplement `def` :"
   ]
  },
  {
   "cell_type": "code",
   "execution_count": 33,
   "metadata": {},
   "outputs": [
    {
     "data": {
      "text/plain": [
       "<coroutine object coro at 0x0000025CA4201540>"
      ]
     },
     "execution_count": 33,
     "metadata": {},
     "output_type": "execute_result"
    }
   ],
   "source": [
    "async def coro():\n",
    "    print('Hello world')\n",
    "\n",
    "coro()"
   ]
  },
  {
   "cell_type": "markdown",
   "metadata": {},
   "source": [
    "Les coroutines ne s'executent pas comme les autres fonctions ! Appeler la fonction ne plannifie pas leur execution. Il faut les attendre (et donc les démarer au moment opportun) !"
   ]
  },
  {
   "cell_type": "code",
   "execution_count": 28,
   "metadata": {
    "scrolled": true
   },
   "outputs": [
    {
     "name": "stdout",
     "output_type": "stream",
     "text": [
      "Hello world\n"
     ]
    }
   ],
   "source": [
    "await coro()"
   ]
  },
  {
   "cell_type": "markdown",
   "metadata": {},
   "source": [
    "La bibliothèque asyncio contient egalement ses propres coroutines que l'on peut utiliser :"
   ]
  },
  {
   "cell_type": "code",
   "execution_count": 42,
   "metadata": {},
   "outputs": [],
   "source": [
    "async def echo(delai, quoi):\n",
    "    await asyncio.sleep(delai) # coroutine qui fini son execution après *delai* secondes\n",
    "    print(quoi)"
   ]
  },
  {
   "cell_type": "code",
   "execution_count": 43,
   "metadata": {},
   "outputs": [
    {
     "name": "stdout",
     "output_type": "stream",
     "text": [
      "bonjour\n"
     ]
    }
   ],
   "source": [
    "await echo(2, 'bonjour')"
   ]
  },
  {
   "cell_type": "markdown",
   "metadata": {},
   "source": [
    "### 1.2. Les tâches  (task)\n",
    "\n",
    "Définir des coroutines définit des fonctions dont on doit attendre l'execution avant de continuer quand on utilise le mot clé `await` :"
   ]
  },
  {
   "cell_type": "code",
   "execution_count": 47,
   "metadata": {},
   "outputs": [
    {
     "name": "stdout",
     "output_type": "stream",
     "text": [
      "started at 14:41:45\n",
      "echo_lent\n",
      "echo_rapide\n",
      "finished at 14:41:50\n"
     ]
    }
   ],
   "source": [
    "import time\n",
    "\n",
    "print(f\"started at {time.strftime('%X')}\")\n",
    "\n",
    "await echo(3, 'echo_lent')\n",
    "await echo(1, 'echo_rapide') # on doit attendre la fin de l'execution de la première coroutine avant de pouvoir lancer la suivante...\n",
    "\n",
    "print(f\"finished at {time.strftime('%X')}\")"
   ]
  },
  {
   "cell_type": "markdown",
   "metadata": {},
   "source": [
    "Il est parfois souhaitable de conserver un ordre d'execution des coroutines, mais l'intérêt d'asyncio est qu'il peut être au contraire interessant de tout lancer en même temps ! Pour ça, on définit des tâches !"
   ]
  },
  {
   "cell_type": "code",
   "execution_count": 84,
   "metadata": {},
   "outputs": [
    {
     "name": "stdout",
     "output_type": "stream",
     "text": [
      "started at 16:04:21\n",
      "echo_rapide\n",
      "echo_lent\n",
      "finished at 16:04:24\n"
     ]
    }
   ],
   "source": [
    "task1 = asyncio.create_task(echo(3, 'echo_lent'))\n",
    "task2 = asyncio.create_task(echo(1, 'echo_rapide'))\n",
    "\n",
    "\n",
    "print(f\"started at {time.strftime('%X')}\")\n",
    "\n",
    "await task1\n",
    "await task2\n",
    "print(f\"finished at {time.strftime('%X')}\")"
   ]
  },
  {
   "cell_type": "markdown",
   "metadata": {},
   "source": [
    "### 1.3. Les avenirs (Future)\n",
    "\n",
    "Un objet `Future` est un peu plus abstrait : il représente le résultat final d'une opération asynchrone, mais qu'on doit encore attendre. Quand un `Future` est attendu, la coroutine attendra qu'il soit résolu (exemple de la documentation de l'objet futur) :"
   ]
  },
  {
   "cell_type": "code",
   "execution_count": 51,
   "metadata": {},
   "outputs": [
    {
     "name": "stdout",
     "output_type": "stream",
     "text": [
      "<class '_asyncio.Future'>\n",
      "hello ...\n",
      "... world\n"
     ]
    }
   ],
   "source": [
    "async def set_after(fut, delay, value):\n",
    "    # Sleep for *delay* seconds.\n",
    "    await asyncio.sleep(delay)\n",
    "\n",
    "    # Set *value* as a result of *fut* Future.\n",
    "    fut.set_result(value)\n",
    "\n",
    "async def main():\n",
    "    # Get the current event loop.\n",
    "    loop = asyncio.get_running_loop()\n",
    "\n",
    "    # Create a new Future object.\n",
    "    fut = loop.create_future()\n",
    "    print(type(fut))\n",
    "    # Run \"set_after()\" coroutine in a parallel Task.\n",
    "    # We are using the low-level \"loop.create_task()\" API here because\n",
    "    # we already have a reference to the event loop at hand.\n",
    "    # Otherwise we could have just used \"asyncio.create_task()\".\n",
    "    loop.create_task(\n",
    "        set_after(fut, 1, '... world'))\n",
    "\n",
    "    print('hello ...')\n",
    "\n",
    "    # Wait until *fut* has a result (1 second) and print it.\n",
    "    print(await fut)\n",
    "\n",
    "await main()"
   ]
  },
  {
   "cell_type": "markdown",
   "metadata": {},
   "source": [
    "## 2. Aller plus loin"
   ]
  },
  {
   "cell_type": "code",
   "execution_count": 60,
   "metadata": {},
   "outputs": [
    {
     "name": "stdout",
     "output_type": "stream",
     "text": [
      "echo 1\n",
      "echo 2\n",
      "echo 3\n",
      "echo 4\n",
      "echo 5\n"
     ]
    }
   ],
   "source": [
    "async def plein_d_echos(n):\n",
    "    liste_de_choses_a_faire = [asyncio.create_task(echo(i**2, f'echo {i}')) for i in range(1, n+1)]\n",
    "    \n",
    "    for i in range(n):\n",
    "        await liste_de_choses_a_faire[i]\n",
    "\n",
    "await plein_d_echos(5)"
   ]
  },
  {
   "cell_type": "markdown",
   "metadata": {},
   "source": [
    "### Rassembler les tâches et futurs\n",
    "Attendre chaque tâche une par une peut être fastidieux : on les réunit avec gather !\n",
    "Note : gather prend autant d'arguments que de tâches qu'on veut réunir, donc si on a une liste de taches, il faut donner en argument les éléments de la liste un par un (on va unpack la liste avec `*`) et non la liste directement :"
   ]
  },
  {
   "cell_type": "code",
   "execution_count": null,
   "metadata": {},
   "outputs": [],
   "source": [
    "async def plein_d_echos2(n):\n",
    "    liste_de_choses_a_faire = [asyncio.create_task(echo(i**2, f'echo {i}')) for i in range(1, n+1)]\n",
    "    \n",
    "    await asyncio.gather(*liste_de_choses_a_faire)\n",
    "\n",
    "await plein_d_echos2(5)"
   ]
  },
  {
   "cell_type": "markdown",
   "metadata": {},
   "source": [
    "Si les tâches devaient donner des résultats, ils sont rendus dans une liste dont l'ordre correspond à celui des tâches données en argument :"
   ]
  },
  {
   "cell_type": "code",
   "execution_count": 69,
   "metadata": {},
   "outputs": [
    {
     "data": {
      "text/plain": [
       "[1, 2, 3]"
      ]
     },
     "execution_count": 69,
     "metadata": {},
     "output_type": "execute_result"
    }
   ],
   "source": [
    "async def identite(x, delai):\n",
    "    await asyncio.sleep(delai)\n",
    "    return x\n",
    "\n",
    "await asyncio.gather(*[asyncio.create_task(identite(i, 5-i)) for i in range(1,4)])"
   ]
  },
  {
   "cell_type": "markdown",
   "metadata": {},
   "source": [
    "### Imposer un délai d'attente maximal\n",
    "\n",
    "Parfois les taches trop longues n'en valent pas la peine... on peut les interrompre si elles prennent trop de temps:"
   ]
  },
  {
   "cell_type": "code",
   "execution_count": 65,
   "metadata": {},
   "outputs": [
    {
     "name": "stdout",
     "output_type": "stream",
     "text": [
      "timeout !\n"
     ]
    }
   ],
   "source": [
    "async def trop_long():\n",
    "    await asyncio.sleep(60)\n",
    "    print('1 minute !')\n",
    "\n",
    "async def impatient():\n",
    "    try:\n",
    "        await asyncio.wait_for(trop_long(), timeout=2)\n",
    "    except asyncio.TimeoutError:\n",
    "        print('timeout !')\n",
    "    \n",
    "await impatient()"
   ]
  },
  {
   "cell_type": "code",
   "execution_count": null,
   "metadata": {},
   "outputs": [],
   "source": []
  },
  {
   "cell_type": "markdown",
   "metadata": {},
   "source": [
    "### Attendre avec des conditions sur un ensemble de tâche\n",
    "\n",
    "On peut aussi faire des compétitions entre nos tâche, les faire tourner en simultanné et s'arrêter dès que l'une d'entre elles est fini, ou attendre qu'elles soient toutes finies avant de continuer (ce que ne permet pas gather, qui les fait toutes tourner en meme temps et renvoie les résultats au moment de leur obtention), ou interrompre toutes celles qui dépassent un certain délai.\n",
    "asyncio.wait prend en argument un itérable (un liste par exemple) d'attendables, éventuellement un temps maximal d'exection dans l'argument `timeout` (par défaut None), et une condition d'arrêt dans l'argument `return_when` par défaut `asyncio.ALL_COMPLETED`, mais peut aussi valoir `asyncio.FIRST_COMPLETED` ou `asyncio.FIRST_EXCEPTION` ces valeurs sont des constantes d'asyncio, donc il ne faut pas utiliser de guillements autour !\n",
    "Elle renvoie en argument deux sets : `(done, pending)`\n",
    "`done` contient les tâches terminées, "
   ]
  },
  {
   "cell_type": "code",
   "execution_count": 105,
   "metadata": {},
   "outputs": [
    {
     "name": "stdout",
     "output_type": "stream",
     "text": [
      "[False, False, True]\n",
      "3\n"
     ]
    }
   ],
   "source": [
    "taches = [asyncio.create_task(identite(i, 5-i)) for i in range(1,4)]\n",
    "done, pending = await asyncio.wait(taches, return_when=asyncio.FIRST_COMPLETED)\n",
    "\n",
    "print([tache in done for tache in taches])\n",
    "print(taches[2].result())t"
   ]
  }
 ],
 "metadata": {
  "kernelspec": {
   "display_name": "Python 3",
   "language": "python",
   "name": "python3"
  },
  "language_info": {
   "codemirror_mode": {
    "name": "ipython",
    "version": 3
   },
   "file_extension": ".py",
   "mimetype": "text/x-python",
   "name": "python",
   "nbconvert_exporter": "python",
   "pygments_lexer": "ipython3",
   "version": "3.8.5"
  }
 },
 "nbformat": 4,
 "nbformat_minor": 4
}
