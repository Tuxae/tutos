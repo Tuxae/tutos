{
 "cells": [
  {
   "cell_type": "code",
   "execution_count": 1,
   "metadata": {},
   "outputs": [],
   "source": [
    "#!pip install asyncio"
   ]
  },
  {
   "cell_type": "code",
   "execution_count": 36,
   "metadata": {},
   "outputs": [],
   "source": [
    "import asyncio\n",
    "import numpy as np"
   ]
  },
  {
   "cell_type": "code",
   "execution_count": 19,
   "metadata": {},
   "outputs": [],
   "source": [
    "async def coro():\n",
    "    print('Hello world')\n",
    "    \n",
    "a = coro()"
   ]
  },
  {
   "cell_type": "code",
   "execution_count": 28,
   "metadata": {},
   "outputs": [],
   "source": [
    "import time"
   ]
  },
  {
   "cell_type": "code",
   "execution_count": 41,
   "metadata": {},
   "outputs": [],
   "source": [
    "async def echo(quoi, delai):\n",
    "    await asyncio.sleep(delai)\n",
    "    print(quoi)\n",
    "    return delai**2\n",
    "\n"
   ]
  },
  {
   "cell_type": "code",
   "execution_count": 32,
   "metadata": {},
   "outputs": [
    {
     "name": "stdout",
     "output_type": "stream",
     "text": [
      "bonjour\n",
      "le monde\n"
     ]
    }
   ],
   "source": [
    "await echo('bonjour', 3)\n",
    "await echo('le monde', 1)"
   ]
  },
  {
   "cell_type": "code",
   "execution_count": 47,
   "metadata": {},
   "outputs": [
    {
     "name": "stdout",
     "output_type": "stream",
     "text": [
      "version_rapide\n",
      "version_lente\n"
     ]
    }
   ],
   "source": [
    "task = asyncio.create_task(echo('version_lente', 3))\n",
    "task2 =  asyncio.create_task(echo('version_rapide', 1))"
   ]
  },
  {
   "cell_type": "code",
   "execution_count": 42,
   "metadata": {},
   "outputs": [
    {
     "name": "stdout",
     "output_type": "stream",
     "text": [
      "echo 0\n",
      "echo 1\n",
      "echo 2\n",
      "echo 3\n",
      "echo 4\n"
     ]
    },
    {
     "data": {
      "text/plain": [
       "[0, 16, 4, 9, 1]"
      ]
     },
     "execution_count": 42,
     "metadata": {},
     "output_type": "execute_result"
    }
   ],
   "source": [
    "async def plein_dechos(n):\n",
    "    l = np.arange(n)\n",
    "    np.random.shuffle(l)\n",
    "    tasks = [asyncio.create_task(echo(f'echo {e}',e)) for e in l]\n",
    "    \n",
    "    rep = await asyncio.gather(*tasks)\n",
    "    return rep\n",
    "await plein_dechos(5)"
   ]
  },
  {
   "cell_type": "code",
   "execution_count": 43,
   "metadata": {},
   "outputs": [
    {
     "name": "stdout",
     "output_type": "stream",
     "text": [
      "timeout\n"
     ]
    }
   ],
   "source": [
    "async def trop_long():\n",
    "    await asyncio.sleep(60)\n",
    "    print('1 minute !')\n",
    "\n",
    "async def impatient():\n",
    "    try:\n",
    "        await asyncio.wait_for(trop_long(), timeout=5)\n",
    "    except asyncio.TimeoutError:\n",
    "        print('timeout')\n",
    "        \n",
    "await impatient()"
   ]
  },
  {
   "cell_type": "code",
   "execution_count": 44,
   "metadata": {},
   "outputs": [
    {
     "data": {
      "text/plain": [
       "<coroutine object wait_for at 0x0000028A4B3FECC0>"
      ]
     },
     "execution_count": 44,
     "metadata": {},
     "output_type": "execute_result"
    }
   ],
   "source": [
    "asyncio.wait_for(trop_long(), timeout=5)"
   ]
  },
  {
   "cell_type": "code",
   "execution_count": 53,
   "metadata": {},
   "outputs": [
    {
     "name": "stdout",
     "output_type": "stream",
     "text": [
      "echo\n",
      "echo\n",
      "echo\n",
      "[9, 1, 4]\n",
      "[9, 1, 4]\n",
      "[True, True, True]\n"
     ]
    }
   ],
   "source": [
    "tasks = [asyncio.create_task(echo('echo', i)) for i in range(1,4)]\n",
    "done, pending =  await asyncio.wait(tasks, return_when=asyncio.FIRST_EXCEPTION)\n",
    "print([task.result() for task in done])\n",
    "print([task.result() for task in done])\n",
    "print([task in done for task in tasks])"
   ]
  },
  {
   "cell_type": "code",
   "execution_count": 54,
   "metadata": {
    "scrolled": true
   },
   "outputs": [
    {
     "name": "stdout",
     "output_type": "stream",
     "text": [
      "[<Task finished name='Task-80' coro=<echo() done, defined at <ipython-input-41-e0d697777c0f>:1> result=1>, <Task finished name='Task-81' coro=<echo() done, defined at <ipython-input-41-e0d697777c0f>:1> result=4>, <Task finished name='Task-82' coro=<echo() done, defined at <ipython-input-41-e0d697777c0f>:1> result=9>]\n"
     ]
    }
   ],
   "source": [
    "print([task for task in tasks ])"
   ]
  },
  {
   "cell_type": "code",
   "execution_count": 62,
   "metadata": {},
   "outputs": [
    {
     "data": {
      "text/plain": [
       "[[1, 2, 3, 4], [1, 2, 3, 4], [1, 2, 3, 4], [1, 2, 3, 4]]"
      ]
     },
     "execution_count": 62,
     "metadata": {},
     "output_type": "execute_result"
    }
   ],
   "source": [
    "L = []\n",
    "\n",
    "async def ajoute(elem, delai, L):\n",
    "    await asyncio.sleep(delai)\n",
    "    L.append(elem)\n",
    "    return L\n",
    "\n",
    "tasks = [asyncio.create_task(ajoute(i, i, L)) for i in range(1, 5)]\n",
    "\n",
    "await asyncio.gather(*tasks)"
   ]
  }
 ],
 "metadata": {
  "kernelspec": {
   "display_name": "Python 3",
   "language": "python",
   "name": "python3"
  },
  "language_info": {
   "codemirror_mode": {
    "name": "ipython",
    "version": 3
   },
   "file_extension": ".py",
   "mimetype": "text/x-python",
   "name": "python",
   "nbconvert_exporter": "python",
   "pygments_lexer": "ipython3",
   "version": "3.8.5"
  }
 },
 "nbformat": 4,
 "nbformat_minor": 4
}
