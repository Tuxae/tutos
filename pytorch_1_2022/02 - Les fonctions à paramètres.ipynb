{
 "cells": [
  {
   "cell_type": "code",
   "execution_count": 17,
   "metadata": {},
   "outputs": [],
   "source": [
    "%matplotlib inline\n",
    "\n",
    "import torch\n",
    "from torch import nn\n",
    "import numpy as np\n",
    "from matplotlib import pyplot as plt\n",
    "\n",
    "plt.style.use(\"ggplot\")\n",
    "plt.rcParams[\"figure.figsize\"] = (12, 7)"
   ]
  },
  {
   "cell_type": "markdown",
   "metadata": {},
   "source": [
    "# Les fonctions à paramètres en Python\n",
    "\n",
    "Soit la fonction suivante :\n",
    "\n",
    "$$f(x) = ax + b$$\n",
    "\n",
    "Elle prend en entrée un nombre $x$ et renvoie un output, mais la valeur renvoyée est déterminée par deux paramètres $a$ et $b$.\n",
    "\n",
    "On note donc plutôt:\n",
    "\n",
    "$$f_\\theta(x) = ax+b$$\n",
    "\n",
    "où $\\theta = (a, b)$.\n",
    "\n",
    "Pour représenter ça en python, on va souvent utiliser des classes."
   ]
  },
  {
   "cell_type": "code",
   "execution_count": 1,
   "metadata": {},
   "outputs": [],
   "source": [
    "class AffineFunction:\n",
    "    def __init__(self, a, b):\n",
    "        self.a = a\n",
    "        self.b = b\n",
    "    def __call__(self, x):\n",
    "        return self.a * x + self.b"
   ]
  },
  {
   "cell_type": "code",
   "execution_count": 2,
   "metadata": {},
   "outputs": [
    {
     "data": {
      "text/plain": [
       "34"
      ]
     },
     "execution_count": 2,
     "metadata": {},
     "output_type": "execute_result"
    }
   ],
   "source": [
    "f = AffineFunction(3, 4)\n",
    "f(10)"
   ]
  },
  {
   "cell_type": "markdown",
   "metadata": {},
   "source": [
    "Lorsque l'on veut apprendre une fonction qui corresponde le mieux possible à des données, on va chercher à ajuster $\\theta$ pour minimiser une fonction de loss sur les données.\n",
    "\n",
    "La fonction de loss considère les données comme fixées et peut alors se voir comme une fonction des paramètres, $l(\\theta)$.\n",
    "\n",
    "C'est là qu'intervient la descente de gradient : En modifiant $\\theta$, on peut minimiser $l(\\theta)$ sur les données et obtenir des paramètres optimaux."
   ]
  },
  {
   "cell_type": "code",
   "execution_count": 8,
   "metadata": {},
   "outputs": [
    {
     "data": {
      "text/plain": [
       "<matplotlib.collections.PathCollection at 0x7f2d95c56550>"
      ]
     },
     "execution_count": 8,
     "metadata": {},
     "output_type": "execute_result"
    },
    {
     "data": {
      "image/png": "[encoded data removed]",
      "text/plain": [
       "<Figure size 864x504 with 1 Axes>"
      ]
     },
     "metadata": {},
     "output_type": "display_data"
    }
   ],
   "source": [
    "# Génération de données artificielles\n",
    "X = np.random.randn(100)\n",
    "true_a, true_b = 2, 4\n",
    "y = true_a * X + true_b + np.random.randn(100)/3\n",
    "plt.scatter(X, y)"
   ]
  },
  {
   "cell_type": "markdown",
   "metadata": {},
   "source": [
    "Le but est donc de retrouver `true_a` et `true_b` par descente de gradient. La loss que nous utiliserons sera la mean squared error."
   ]
  },
  {
   "cell_type": "code",
   "execution_count": 53,
   "metadata": {},
   "outputs": [
    {
     "name": "stdout",
     "output_type": "stream",
     "text": [
      "00 -> theta=[1. 1.] loss=11.010\n",
      "10 -> theta=[2.87 3.73] loss=0.745\n",
      "20 -> theta=[1.71 4.67] loss=0.644\n",
      "30 -> theta=[1.88 4.11] loss=0.143\n",
      "40 -> theta=[2.3  3.71] loss=0.194\n",
      "50 -> theta=[1.97 3.92] loss=0.106\n",
      "60 -> theta=[2.08 4.07] loss=0.109\n",
      "70 -> theta=[2.05 3.93] loss=0.097\n",
      "80 -> theta=[2.08 3.94] loss=0.096\n",
      "90 -> theta=[2.05 3.98] loss=0.096\n"
     ]
    }
   ],
   "source": [
    "# On passe X et y en torch pour qu'ils soient compatibles\n",
    "X_pt = torch.tensor(X).float().reshape(-1, 1)\n",
    "y_pt = torch.tensor(y).reshape(-1, 1)\n",
    "\n",
    "theta = torch.tensor([1, 1], dtype=torch.float, requires_grad=True)\n",
    "f = AffineFunction(theta[0], theta[1])\n",
    "\n",
    "n_epochs = 100\n",
    "learning_rate = 0.3\n",
    "optimizer = torch.optim.Adam([theta], lr=learning_rate)\n",
    "\n",
    "for epoch in range(n_epochs):\n",
    "    output = f(X_pt)\n",
    "    loss = ((output - y_pt)**2).mean()\n",
    "    loss.backward()\n",
    "    \n",
    "    if epoch % 10 == 0:\n",
    "        print(f\"{epoch:0>2d} -> theta={theta.detach().numpy().round(2)} loss={loss.item():.3f}\")\n",
    "    \n",
    "    optimizer.step()\n",
    "    optimizer.zero_grad()\n"
   ]
  },
  {
   "cell_type": "markdown",
   "metadata": {},
   "source": [
    "On a bien retrouvé les valeurs de a et b."
   ]
  },
  {
   "cell_type": "code",
   "execution_count": 54,
   "metadata": {},
   "outputs": [
    {
     "data": {
      "text/plain": [
       "[<matplotlib.lines.Line2D at 0x7f2d8d19aeb0>]"
      ]
     },
     "execution_count": 54,
     "metadata": {},
     "output_type": "execute_result"
    },
    {
     "data": {
      "image/png": "[encoded data removed]",
      "text/plain": [
       "<Figure size 864x504 with 1 Axes>"
      ]
     },
     "metadata": {},
     "output_type": "display_data"
    }
   ],
   "source": [
    "plt.scatter(X, y)\n",
    "plt.plot(X, f(X_pt).detach().numpy().squeeze())"
   ]
  },
  {
   "cell_type": "markdown",
   "metadata": {},
   "source": [
    "# Réécriture comme un module pytorch"
   ]
  },
  {
   "cell_type": "code",
   "execution_count": 55,
   "metadata": {},
   "outputs": [],
   "source": [
    "class Model(nn.Module):\n",
    "    def __init__(self):\n",
    "        super().__init__()\n",
    "        self.linear = nn.Linear(1, 1) # fonction a*x + b\n",
    "\n",
    "    def forward(self, x):\n",
    "        return self.linear(x)"
   ]
  },
  {
   "cell_type": "code",
   "execution_count": 56,
   "metadata": {},
   "outputs": [
    {
     "data": {
      "text/plain": [
       "(torch.Size([100, 1]), torch.Size([100, 1]))"
      ]
     },
     "execution_count": 56,
     "metadata": {},
     "output_type": "execute_result"
    }
   ],
   "source": [
    "output.shape, y_pt.shape"
   ]
  },
  {
   "cell_type": "code",
   "execution_count": 60,
   "metadata": {},
   "outputs": [
    {
     "name": "stdout",
     "output_type": "stream",
     "text": [
      "00 -> a=0.21 b=0.14 loss=20.468\n",
      "10 -> a=1.19 b=1.12 loss=9.708\n",
      "20 -> a=2.01 b=2.04 loss=3.808\n",
      "30 -> a=2.48 b=2.81 loss=1.428\n",
      "40 -> a=2.53 b=3.38 loss=0.562\n",
      "50 -> a=2.33 b=3.75 loss=0.196\n",
      "60 -> a=2.11 b=3.94 loss=0.098\n",
      "70 -> a=1.99 b=4.02 loss=0.102\n",
      "80 -> a=1.99 b=4.03 loss=0.103\n",
      "90 -> a=2.04 b=4.01 loss=0.098\n"
     ]
    }
   ],
   "source": [
    "model = Model() # L'initialisation des paramètres est faite automatiquement\n",
    "\n",
    "n_epochs = 100\n",
    "learning_rate = 0.1\n",
    "optimizer = torch.optim.Adam(model.parameters(), lr=learning_rate)\n",
    "\n",
    "for epoch in range(n_epochs):\n",
    "    output = model(X_pt)\n",
    "    loss = ((output - y_pt)**2).mean()\n",
    "    loss.backward()\n",
    "    \n",
    "    a = model.linear.weight.detach().numpy().squeeze()\n",
    "    b = model.linear.bias.detach().numpy().squeeze()\n",
    "    \n",
    "    if epoch % 10 == 0:\n",
    "        print(f\"{epoch:0>2d} -> a={a:.2f} b={b:.2f} loss={loss.item():.3f}\")\n",
    "    \n",
    "    optimizer.step()\n",
    "    optimizer.zero_grad()\n"
   ]
  },
  {
   "cell_type": "code",
   "execution_count": 61,
   "metadata": {},
   "outputs": [
    {
     "data": {
      "text/plain": [
       "<matplotlib.legend.Legend at 0x7f2d8d15dd60>"
      ]
     },
     "execution_count": 61,
     "metadata": {},
     "output_type": "execute_result"
    },
    {
     "data": {
      "image/png": "[encoded data removed]",
      "text/plain": [
       "<Figure size 864x504 with 1 Axes>"
      ]
     },
     "metadata": {},
     "output_type": "display_data"
    }
   ],
   "source": [
    "plt.scatter(X_pt.squeeze().detach().numpy(), y_pt.detach().numpy(), label=\"true\")\n",
    "plt.scatter(X_pt.squeeze().detach().numpy(), model(X_pt).detach().numpy(), label=\"pred\")\n",
    "plt.legend()"
   ]
  },
  {
   "cell_type": "code",
   "execution_count": null,
   "metadata": {},
   "outputs": [],
   "source": []
  }
 ],
 "metadata": {
  "kernelspec": {
   "display_name": "Python 3",
   "language": "python",
   "name": "python3"
  },
  "language_info": {
   "codemirror_mode": {
    "name": "ipython",
    "version": 3
   },
   "file_extension": ".py",
   "mimetype": "text/x-python",
   "name": "python",
   "nbconvert_exporter": "python",
   "pygments_lexer": "ipython3",
   "version": "3.8.5"
  }
 },
 "nbformat": 4,
 "nbformat_minor": 4
}
